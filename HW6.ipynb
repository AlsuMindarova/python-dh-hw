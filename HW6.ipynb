{
 "cells": [
  {
   "cell_type": "code",
   "execution_count": null,
   "metadata": {
    "collapsed": true
   },
   "outputs": [],
   "source": [
    "# Задача 1\n",
    "\n",
    "phrase = \"абракадабра фокус покус десятка за курс немедленно появись\".split()\n",
    "y = []\n",
    "for i in range(len(phrase)):\n",
    "    for j in range(len(phrase[i]) - 1):\n",
    "        n = phrase[i][j:j + 2]\n",
    "        y.append(n)\n",
    "print(y)\n",
    "d = dict((x, y.count(x)) for x in set(y))\n",
    "for key in d:\n",
    "    if key[0] == key[1]:\n",
    "        break\n",
    "    print(key, [d[key]])"
   ]
  },
  {
   "cell_type": "code",
   "execution_count": 1,
   "metadata": {
    "collapsed": true
   },
   "outputs": [],
   "source": [
    "# Задача 2\n",
    "\n",
    "def task_2(a, b):\n",
    "c = b[::-1]\n",
    "if a == c:\n",
    "    print('YES')\n",
    "else:\n",
    "    print('NO')\n",
    "\n",
    "first_word = str(input())\n",
    "second_word = str(input())\n",
    "task_2(first_word, second_word)"
   ]
  }
 ],
 "metadata": {
  "kernelspec": {
   "display_name": "Python 3",
   "language": "python",
   "name": "python3"
  },
  "language_info": {
   "codemirror_mode": {
    "name": "ipython",
    "version": 3
   },
   "file_extension": ".py",
   "mimetype": "text/x-python",
   "name": "python",
   "nbconvert_exporter": "python",
   "pygments_lexer": "ipython3",
   "version": "3.6.3"
  }
 },
 "nbformat": 4,
 "nbformat_minor": 2
}
